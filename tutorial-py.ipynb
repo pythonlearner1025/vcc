{
 "cells": [
  {
   "cell_type": "markdown",
   "metadata": {},
   "source": [
    "# Summary\n",
    "\n",
    "* This is a tutorial on using Python for accessing the scBaseCount dataset hosted by the Arc Institute.\n",
    "* The data can be streamed or downloaded locally.\n",
    "  * For small jobs (e.g., summarizing the some metadata), streaming is recommended.\n",
    "  * For large jobs (e.g., training a model), downloading is recommended.\n",
    "* See the [README](README.md#metadata) for a description of the obs metadata.\n"
   ]
  },
  {
   "cell_type": "markdown",
   "metadata": {},
   "source": [
    "# Setup"
   ]
  },
  {
   "cell_type": "markdown",
   "metadata": {},
   "source": [
    "### Installation\n",
    "\n",
    "If needed, install the necessary dependencies.\n",
    "\n",
    "You can use the [conda environment](../conda_envs/python.yml) provided in this git repository."
   ]
  },
  {
   "cell_type": "markdown",
   "metadata": {},
   "source": [
    "# Load packages"
   ]
  },
  {
   "cell_type": "code",
   "execution_count": null,
   "metadata": {},
   "outputs": [],
   "source": [
    "import os\n",
    "import pandas as pd\n",
    "import scanpy as sc\n",
    "import pyarrow.dataset as ds\n",
    "import gcsfs"
   ]
  },
  {
   "cell_type": "code",
   "execution_count": null,
   "metadata": {},
   "outputs": [],
   "source": [
    "# initialize GCS file system for reading data from GCS\n",
    "fs = gcsfs.GCSFileSystem()"
   ]
  },
  {
   "cell_type": "markdown",
   "metadata": {},
   "source": [
    "# Data location"
   ]
  },
  {
   "cell_type": "code",
   "execution_count": null,
   "metadata": {},
   "outputs": [],
   "source": [
    "# GCS bucket path\n",
    "gcs_base_path = \"gs://arc-scbasecount/2025-02-25/\""
   ]
  },
  {
   "cell_type": "code",
   "execution_count": null,
   "metadata": {},
   "outputs": [],
   "source": [
    "# STARsolo feature type\n",
    "feature_type = \"GeneFull_Ex50pAS\""
   ]
  },
  {
   "cell_type": "markdown",
   "metadata": {},
   "source": [
    "# List available files\n",
    "\n",
    "Let's see what we have to work with!\n",
    "\n",
    "First, load some helper code."
   ]
  },
  {
   "cell_type": "code",
   "execution_count": null,
   "metadata": {},
   "outputs": [],
   "source": [
    "# helper function to list files \n",
    "def get_file_table(gcs_base_path: str, target: str=None, endswith: str=None):\n",
    "    files = fs.glob(\"/\".join([gcs_base_path.rstrip(\"/\"), \"**\"]))\n",
    "    if target:\n",
    "        files = [f for f in files if os.path.basename(f) == target]\n",
    "    else:\n",
    "        files = [f for f in files if f.endswith(endswith)]\n",
    "    file_list = []\n",
    "    for f in files:\n",
    "        file_list.append(f.split(\"/\")[-2:-1] + [f])\n",
    "    return pd.DataFrame(file_list, columns=[\"organism\", \"file_path\"])"
   ]
  },
  {
   "cell_type": "markdown",
   "metadata": {},
   "source": [
    "## Parquet files\n",
    "\n",
    "* Contain the obs metadata\n",
    "* These can be read efficiently with [pyarrow](https://arrow.apache.org/docs/python/index.html)\n",
    "  * We will read in via pyarrow and convert to pandas"
   ]
  },
  {
   "cell_type": "code",
   "execution_count": 27,
   "metadata": {},
   "outputs": [
    {
     "data": {
      "text/plain": [
       "'gs://arc-scbasecount/2025-02-25/metadata/GeneFull_Ex50pAS'"
      ]
     },
     "execution_count": 27,
     "metadata": {},
     "output_type": "execute_result"
    }
   ],
   "source": [
    "# set the path to the metadata files\n",
    "gcs_path = \"/\".join([gcs_base_path.rstrip(\"/\"), \"metadata\", feature_type])\n",
    "gcs_path"
   ]
  },
  {
   "cell_type": "markdown",
   "metadata": {},
   "source": [
    "### List per-sample metadata files\n",
    "\n",
    "Per-sample (SRX accession) metadata (e.g., tissue)"
   ]
  },
  {
   "cell_type": "code",
   "execution_count": 28,
   "metadata": {},
   "outputs": [
    {
     "name": "stdout",
     "output_type": "stream",
     "text": [
      "(21, 2)\n"
     ]
    },
    {
     "data": {
      "text/html": [
       "<div>\n",
       "<style scoped>\n",
       "    .dataframe tbody tr th:only-of-type {\n",
       "        vertical-align: middle;\n",
       "    }\n",
       "\n",
       "    .dataframe tbody tr th {\n",
       "        vertical-align: top;\n",
       "    }\n",
       "\n",
       "    .dataframe thead th {\n",
       "        text-align: right;\n",
       "    }\n",
       "</style>\n",
       "<table border=\"1\" class=\"dataframe\">\n",
       "  <thead>\n",
       "    <tr style=\"text-align: right;\">\n",
       "      <th></th>\n",
       "      <th>organism</th>\n",
       "      <th>file_path</th>\n",
       "    </tr>\n",
       "  </thead>\n",
       "  <tbody>\n",
       "    <tr>\n",
       "      <th>0</th>\n",
       "      <td>Arabidopsis_thaliana</td>\n",
       "      <td>arc-scbasecount/2025-02-25/metadata/GeneFull_E...</td>\n",
       "    </tr>\n",
       "    <tr>\n",
       "      <th>1</th>\n",
       "      <td>Bos_taurus</td>\n",
       "      <td>arc-scbasecount/2025-02-25/metadata/GeneFull_E...</td>\n",
       "    </tr>\n",
       "    <tr>\n",
       "      <th>2</th>\n",
       "      <td>Caenorhabditis_elegans</td>\n",
       "      <td>arc-scbasecount/2025-02-25/metadata/GeneFull_E...</td>\n",
       "    </tr>\n",
       "    <tr>\n",
       "      <th>3</th>\n",
       "      <td>Callithrix_jacchus</td>\n",
       "      <td>arc-scbasecount/2025-02-25/metadata/GeneFull_E...</td>\n",
       "    </tr>\n",
       "    <tr>\n",
       "      <th>4</th>\n",
       "      <td>Danio_rerio</td>\n",
       "      <td>arc-scbasecount/2025-02-25/metadata/GeneFull_E...</td>\n",
       "    </tr>\n",
       "  </tbody>\n",
       "</table>\n",
       "</div>"
      ],
      "text/plain": [
       "                 organism                                          file_path\n",
       "0    Arabidopsis_thaliana  arc-scbasecount/2025-02-25/metadata/GeneFull_E...\n",
       "1              Bos_taurus  arc-scbasecount/2025-02-25/metadata/GeneFull_E...\n",
       "2  Caenorhabditis_elegans  arc-scbasecount/2025-02-25/metadata/GeneFull_E...\n",
       "3      Callithrix_jacchus  arc-scbasecount/2025-02-25/metadata/GeneFull_E...\n",
       "4             Danio_rerio  arc-scbasecount/2025-02-25/metadata/GeneFull_E..."
      ]
     },
     "execution_count": 28,
     "metadata": {},
     "output_type": "execute_result"
    }
   ],
   "source": [
    "# list files\n",
    "sample_pq_files = get_file_table(gcs_path, \"sample_metadata.parquet\")\n",
    "print(sample_pq_files.shape)\n",
    "sample_pq_files.head()"
   ]
  },
  {
   "cell_type": "markdown",
   "metadata": {},
   "source": [
    "**Notes:**\n",
    "\n",
    "* As you can see, the files are organized by `feature_type` (STARsolo output type) and `organism`"
   ]
  },
  {
   "cell_type": "markdown",
   "metadata": {},
   "source": [
    "### List per-obs metadata files\n",
    "\n",
    "Per-observation (cell) metadata"
   ]
  },
  {
   "cell_type": "code",
   "execution_count": 29,
   "metadata": {},
   "outputs": [
    {
     "name": "stdout",
     "output_type": "stream",
     "text": [
      "(21, 2)\n"
     ]
    },
    {
     "data": {
      "text/html": [
       "<div>\n",
       "<style scoped>\n",
       "    .dataframe tbody tr th:only-of-type {\n",
       "        vertical-align: middle;\n",
       "    }\n",
       "\n",
       "    .dataframe tbody tr th {\n",
       "        vertical-align: top;\n",
       "    }\n",
       "\n",
       "    .dataframe thead th {\n",
       "        text-align: right;\n",
       "    }\n",
       "</style>\n",
       "<table border=\"1\" class=\"dataframe\">\n",
       "  <thead>\n",
       "    <tr style=\"text-align: right;\">\n",
       "      <th></th>\n",
       "      <th>organism</th>\n",
       "      <th>file_path</th>\n",
       "    </tr>\n",
       "  </thead>\n",
       "  <tbody>\n",
       "    <tr>\n",
       "      <th>0</th>\n",
       "      <td>Arabidopsis_thaliana</td>\n",
       "      <td>arc-scbasecount/2025-02-25/metadata/GeneFull_E...</td>\n",
       "    </tr>\n",
       "    <tr>\n",
       "      <th>1</th>\n",
       "      <td>Bos_taurus</td>\n",
       "      <td>arc-scbasecount/2025-02-25/metadata/GeneFull_E...</td>\n",
       "    </tr>\n",
       "    <tr>\n",
       "      <th>2</th>\n",
       "      <td>Caenorhabditis_elegans</td>\n",
       "      <td>arc-scbasecount/2025-02-25/metadata/GeneFull_E...</td>\n",
       "    </tr>\n",
       "    <tr>\n",
       "      <th>3</th>\n",
       "      <td>Callithrix_jacchus</td>\n",
       "      <td>arc-scbasecount/2025-02-25/metadata/GeneFull_E...</td>\n",
       "    </tr>\n",
       "    <tr>\n",
       "      <th>4</th>\n",
       "      <td>Danio_rerio</td>\n",
       "      <td>arc-scbasecount/2025-02-25/metadata/GeneFull_E...</td>\n",
       "    </tr>\n",
       "  </tbody>\n",
       "</table>\n",
       "</div>"
      ],
      "text/plain": [
       "                 organism                                          file_path\n",
       "0    Arabidopsis_thaliana  arc-scbasecount/2025-02-25/metadata/GeneFull_E...\n",
       "1              Bos_taurus  arc-scbasecount/2025-02-25/metadata/GeneFull_E...\n",
       "2  Caenorhabditis_elegans  arc-scbasecount/2025-02-25/metadata/GeneFull_E...\n",
       "3      Callithrix_jacchus  arc-scbasecount/2025-02-25/metadata/GeneFull_E...\n",
       "4             Danio_rerio  arc-scbasecount/2025-02-25/metadata/GeneFull_E..."
      ]
     },
     "execution_count": 29,
     "metadata": {},
     "output_type": "execute_result"
    }
   ],
   "source": [
    "# list files\n",
    "obs_pq_files = get_file_table(gcs_path, \"obs_metadata.parquet\")\n",
    "print(obs_pq_files.shape)\n",
    "obs_pq_files.head()"
   ]
  },
  {
   "cell_type": "markdown",
   "metadata": {},
   "source": [
    "## h5ad files \n",
    "\n",
    "* Contain count matrices and per-obs metadata"
   ]
  },
  {
   "cell_type": "code",
   "execution_count": 30,
   "metadata": {},
   "outputs": [
    {
     "data": {
      "text/plain": [
       "'gs://arc-scbasecount/2025-02-25/h5ad/GeneFull_Ex50pAS'"
      ]
     },
     "execution_count": 30,
     "metadata": {},
     "output_type": "execute_result"
    }
   ],
   "source": [
    "# set the path\n",
    "gcs_path = \"/\".join([gcs_base_path.rstrip(\"/\"), \"h5ad\", feature_type])\n",
    "gcs_path"
   ]
  },
  {
   "cell_type": "code",
   "execution_count": 31,
   "metadata": {},
   "outputs": [
    {
     "name": "stdout",
     "output_type": "stream",
     "text": [
      "(30387, 2)\n"
     ]
    },
    {
     "data": {
      "text/html": [
       "<div>\n",
       "<style scoped>\n",
       "    .dataframe tbody tr th:only-of-type {\n",
       "        vertical-align: middle;\n",
       "    }\n",
       "\n",
       "    .dataframe tbody tr th {\n",
       "        vertical-align: top;\n",
       "    }\n",
       "\n",
       "    .dataframe thead th {\n",
       "        text-align: right;\n",
       "    }\n",
       "</style>\n",
       "<table border=\"1\" class=\"dataframe\">\n",
       "  <thead>\n",
       "    <tr style=\"text-align: right;\">\n",
       "      <th></th>\n",
       "      <th>organism</th>\n",
       "      <th>file_path</th>\n",
       "    </tr>\n",
       "  </thead>\n",
       "  <tbody>\n",
       "    <tr>\n",
       "      <th>0</th>\n",
       "      <td>Arabidopsis_thaliana</td>\n",
       "      <td>arc-scbasecount/2025-02-25/h5ad/GeneFull_Ex50p...</td>\n",
       "    </tr>\n",
       "    <tr>\n",
       "      <th>1</th>\n",
       "      <td>Arabidopsis_thaliana</td>\n",
       "      <td>arc-scbasecount/2025-02-25/h5ad/GeneFull_Ex50p...</td>\n",
       "    </tr>\n",
       "    <tr>\n",
       "      <th>2</th>\n",
       "      <td>Arabidopsis_thaliana</td>\n",
       "      <td>arc-scbasecount/2025-02-25/h5ad/GeneFull_Ex50p...</td>\n",
       "    </tr>\n",
       "    <tr>\n",
       "      <th>3</th>\n",
       "      <td>Arabidopsis_thaliana</td>\n",
       "      <td>arc-scbasecount/2025-02-25/h5ad/GeneFull_Ex50p...</td>\n",
       "    </tr>\n",
       "    <tr>\n",
       "      <th>4</th>\n",
       "      <td>Arabidopsis_thaliana</td>\n",
       "      <td>arc-scbasecount/2025-02-25/h5ad/GeneFull_Ex50p...</td>\n",
       "    </tr>\n",
       "  </tbody>\n",
       "</table>\n",
       "</div>"
      ],
      "text/plain": [
       "               organism                                          file_path\n",
       "0  Arabidopsis_thaliana  arc-scbasecount/2025-02-25/h5ad/GeneFull_Ex50p...\n",
       "1  Arabidopsis_thaliana  arc-scbasecount/2025-02-25/h5ad/GeneFull_Ex50p...\n",
       "2  Arabidopsis_thaliana  arc-scbasecount/2025-02-25/h5ad/GeneFull_Ex50p...\n",
       "3  Arabidopsis_thaliana  arc-scbasecount/2025-02-25/h5ad/GeneFull_Ex50p...\n",
       "4  Arabidopsis_thaliana  arc-scbasecount/2025-02-25/h5ad/GeneFull_Ex50p..."
      ]
     },
     "execution_count": 31,
     "metadata": {},
     "output_type": "execute_result"
    }
   ],
   "source": [
    "# list files\n",
    "h5ad_files = get_file_table(gcs_path, endswith=\".h5ad\")\n",
    "print(h5ad_files.shape)\n",
    "h5ad_files.head()"
   ]
  },
  {
   "cell_type": "markdown",
   "metadata": {},
   "source": [
    "# Explore the per-sample metadata"
   ]
  },
  {
   "cell_type": "markdown",
   "metadata": {},
   "source": [
    "### Just human samples"
   ]
  },
  {
   "cell_type": "code",
   "execution_count": 32,
   "metadata": {},
   "outputs": [
    {
     "data": {
      "text/plain": [
       "'arc-scbasecount/2025-02-25/metadata/GeneFull_Ex50pAS/Homo_sapiens/sample_metadata.parquet'"
      ]
     },
     "execution_count": 32,
     "metadata": {},
     "output_type": "execute_result"
    }
   ],
   "source": [
    "# get the per-sample metadata file path\n",
    "infile = sample_pq_files[sample_pq_files[\"organism\"] == \"Homo_sapiens\"][\"file_path\"].values[0]\n",
    "infile"
   ]
  },
  {
   "cell_type": "code",
   "execution_count": 33,
   "metadata": {},
   "outputs": [
    {
     "name": "stdout",
     "output_type": "stream",
     "text": [
      "(16077, 14)\n"
     ]
    },
    {
     "data": {
      "text/html": [
       "<div>\n",
       "<style scoped>\n",
       "    .dataframe tbody tr th:only-of-type {\n",
       "        vertical-align: middle;\n",
       "    }\n",
       "\n",
       "    .dataframe tbody tr th {\n",
       "        vertical-align: top;\n",
       "    }\n",
       "\n",
       "    .dataframe thead th {\n",
       "        text-align: right;\n",
       "    }\n",
       "</style>\n",
       "<table border=\"1\" class=\"dataframe\">\n",
       "  <thead>\n",
       "    <tr style=\"text-align: right;\">\n",
       "      <th></th>\n",
       "      <th>entrez_id</th>\n",
       "      <th>srx_accession</th>\n",
       "      <th>file_path</th>\n",
       "      <th>obs_count</th>\n",
       "      <th>lib_prep</th>\n",
       "      <th>tech_10x</th>\n",
       "      <th>cell_prep</th>\n",
       "      <th>organism</th>\n",
       "      <th>tissue</th>\n",
       "      <th>disease</th>\n",
       "      <th>perturbation</th>\n",
       "      <th>cell_line</th>\n",
       "      <th>czi_collection_id</th>\n",
       "      <th>czi_collection_name</th>\n",
       "    </tr>\n",
       "  </thead>\n",
       "  <tbody>\n",
       "    <tr>\n",
       "      <th>0</th>\n",
       "      <td>29110018</td>\n",
       "      <td>ERX11148735</td>\n",
       "      <td>gs://arc-scbasecount/2025-02-25/h5ad/GeneFull_...</td>\n",
       "      <td>747</td>\n",
       "      <td>10x_Genomics</td>\n",
       "      <td>3_prime_gex</td>\n",
       "      <td>single_cell</td>\n",
       "      <td>Homo sapiens</td>\n",
       "      <td>skin of body</td>\n",
       "      <td>normal</td>\n",
       "      <td>surplus skin from breast reconstruction surgery</td>\n",
       "      <td>not applicable</td>\n",
       "      <td>73f82ac8-15cc-4fcd-87f8-5683723fce7f</td>\n",
       "      <td>Developmental cell programs are co-opted in in...</td>\n",
       "    </tr>\n",
       "    <tr>\n",
       "      <th>1</th>\n",
       "      <td>29110027</td>\n",
       "      <td>ERX11148744</td>\n",
       "      <td>gs://arc-scbasecount/2025-02-25/h5ad/GeneFull_...</td>\n",
       "      <td>2379</td>\n",
       "      <td>10x_Genomics</td>\n",
       "      <td>3_prime_gex</td>\n",
       "      <td>single_cell</td>\n",
       "      <td>Homo sapiens</td>\n",
       "      <td>skin of body</td>\n",
       "      <td>normal</td>\n",
       "      <td>treated with dispase II and collagenase for ce...</td>\n",
       "      <td>keratinocyte CD49f-</td>\n",
       "      <td>73f82ac8-15cc-4fcd-87f8-5683723fce7f</td>\n",
       "      <td>Developmental cell programs are co-opted in in...</td>\n",
       "    </tr>\n",
       "    <tr>\n",
       "      <th>2</th>\n",
       "      <td>29110026</td>\n",
       "      <td>ERX11148743</td>\n",
       "      <td>gs://arc-scbasecount/2025-02-25/h5ad/GeneFull_...</td>\n",
       "      <td>2316</td>\n",
       "      <td>10x_Genomics</td>\n",
       "      <td>3_prime_gex</td>\n",
       "      <td>single_cell</td>\n",
       "      <td>Homo sapiens</td>\n",
       "      <td>skin of body</td>\n",
       "      <td>normal</td>\n",
       "      <td>treated with dispase II and collagenase for ce...</td>\n",
       "      <td>epidermal myeloid cells</td>\n",
       "      <td>73f82ac8-15cc-4fcd-87f8-5683723fce7f</td>\n",
       "      <td>Developmental cell programs are co-opted in in...</td>\n",
       "    </tr>\n",
       "    <tr>\n",
       "      <th>3</th>\n",
       "      <td>29110023</td>\n",
       "      <td>ERX11148740</td>\n",
       "      <td>gs://arc-scbasecount/2025-02-25/h5ad/GeneFull_...</td>\n",
       "      <td>2907</td>\n",
       "      <td>10x_Genomics</td>\n",
       "      <td>3_prime_gex</td>\n",
       "      <td>single_cell</td>\n",
       "      <td>Homo sapiens</td>\n",
       "      <td>skin of body</td>\n",
       "      <td>normal</td>\n",
       "      <td>skin collected from breast reconstruction surgery</td>\n",
       "      <td>not specified</td>\n",
       "      <td>73f82ac8-15cc-4fcd-87f8-5683723fce7f</td>\n",
       "      <td>Developmental cell programs are co-opted in in...</td>\n",
       "    </tr>\n",
       "    <tr>\n",
       "      <th>4</th>\n",
       "      <td>29110015</td>\n",
       "      <td>ERX11148732</td>\n",
       "      <td>gs://arc-scbasecount/2025-02-25/h5ad/GeneFull_...</td>\n",
       "      <td>4082</td>\n",
       "      <td>10x_Genomics</td>\n",
       "      <td>3_prime_gex</td>\n",
       "      <td>single_cell</td>\n",
       "      <td>Homo sapiens</td>\n",
       "      <td>skin of body</td>\n",
       "      <td>normal</td>\n",
       "      <td>treated with dispase II and collagenase</td>\n",
       "      <td>not_applicable</td>\n",
       "      <td>73f82ac8-15cc-4fcd-87f8-5683723fce7f</td>\n",
       "      <td>Developmental cell programs are co-opted in in...</td>\n",
       "    </tr>\n",
       "  </tbody>\n",
       "</table>\n",
       "</div>"
      ],
      "text/plain": [
       "   entrez_id srx_accession                                          file_path  \\\n",
       "0   29110018   ERX11148735  gs://arc-scbasecount/2025-02-25/h5ad/GeneFull_...   \n",
       "1   29110027   ERX11148744  gs://arc-scbasecount/2025-02-25/h5ad/GeneFull_...   \n",
       "2   29110026   ERX11148743  gs://arc-scbasecount/2025-02-25/h5ad/GeneFull_...   \n",
       "3   29110023   ERX11148740  gs://arc-scbasecount/2025-02-25/h5ad/GeneFull_...   \n",
       "4   29110015   ERX11148732  gs://arc-scbasecount/2025-02-25/h5ad/GeneFull_...   \n",
       "\n",
       "   obs_count      lib_prep     tech_10x    cell_prep      organism  \\\n",
       "0        747  10x_Genomics  3_prime_gex  single_cell  Homo sapiens   \n",
       "1       2379  10x_Genomics  3_prime_gex  single_cell  Homo sapiens   \n",
       "2       2316  10x_Genomics  3_prime_gex  single_cell  Homo sapiens   \n",
       "3       2907  10x_Genomics  3_prime_gex  single_cell  Homo sapiens   \n",
       "4       4082  10x_Genomics  3_prime_gex  single_cell  Homo sapiens   \n",
       "\n",
       "         tissue disease                                       perturbation  \\\n",
       "0  skin of body  normal    surplus skin from breast reconstruction surgery   \n",
       "1  skin of body  normal  treated with dispase II and collagenase for ce...   \n",
       "2  skin of body  normal  treated with dispase II and collagenase for ce...   \n",
       "3  skin of body  normal  skin collected from breast reconstruction surgery   \n",
       "4  skin of body  normal            treated with dispase II and collagenase   \n",
       "\n",
       "                 cell_line                     czi_collection_id  \\\n",
       "0           not applicable  73f82ac8-15cc-4fcd-87f8-5683723fce7f   \n",
       "1      keratinocyte CD49f-  73f82ac8-15cc-4fcd-87f8-5683723fce7f   \n",
       "2  epidermal myeloid cells  73f82ac8-15cc-4fcd-87f8-5683723fce7f   \n",
       "3            not specified  73f82ac8-15cc-4fcd-87f8-5683723fce7f   \n",
       "4           not_applicable  73f82ac8-15cc-4fcd-87f8-5683723fce7f   \n",
       "\n",
       "                                 czi_collection_name  \n",
       "0  Developmental cell programs are co-opted in in...  \n",
       "1  Developmental cell programs are co-opted in in...  \n",
       "2  Developmental cell programs are co-opted in in...  \n",
       "3  Developmental cell programs are co-opted in in...  \n",
       "4  Developmental cell programs are co-opted in in...  "
      ]
     },
     "execution_count": 33,
     "metadata": {},
     "output_type": "execute_result"
    }
   ],
   "source": [
    "# load the metadata\n",
    "sample_metadata = ds.dataset(infile, filesystem=fs, format=\"parquet\").to_table().to_pandas()\n",
    "print(sample_metadata.shape)\n",
    "sample_metadata.head()"
   ]
  },
  {
   "cell_type": "code",
   "execution_count": 47,
   "metadata": {},
   "outputs": [
    {
     "data": {
      "text/plain": [
       "organism\n",
       "Homo sapiens    16077\n",
       "Name: count, dtype: int64"
      ]
     },
     "execution_count": 47,
     "metadata": {},
     "output_type": "execute_result"
    }
   ],
   "source": [
    "# All human?\n",
    "sample_metadata[\"organism\"].value_counts()"
   ]
  },
  {
   "cell_type": "code",
   "execution_count": null,
   "metadata": {},
   "outputs": [],
   "source": [
    "# 10X library prep methods\n",
    "sample_metadata[\"tech_10x\"].value_counts()"
   ]
  },
  {
   "cell_type": "code",
   "execution_count": null,
   "metadata": {},
   "outputs": [],
   "source": [
    "# cell prep method\n",
    "sample_metadata[\"cell_prep\"].value_counts()"
   ]
  },
  {
   "cell_type": "markdown",
   "metadata": {},
   "source": [
    "### All organisms\n",
    "\n",
    "Let's scale up to everything!"
   ]
  },
  {
   "cell_type": "code",
   "execution_count": 48,
   "metadata": {},
   "outputs": [
    {
     "name": "stdout",
     "output_type": "stream",
     "text": [
      "Number of samples: 30387\n"
     ]
    },
    {
     "data": {
      "text/html": [
       "<div>\n",
       "<style scoped>\n",
       "    .dataframe tbody tr th:only-of-type {\n",
       "        vertical-align: middle;\n",
       "    }\n",
       "\n",
       "    .dataframe tbody tr th {\n",
       "        vertical-align: top;\n",
       "    }\n",
       "\n",
       "    .dataframe thead th {\n",
       "        text-align: right;\n",
       "    }\n",
       "</style>\n",
       "<table border=\"1\" class=\"dataframe\">\n",
       "  <thead>\n",
       "    <tr style=\"text-align: right;\">\n",
       "      <th></th>\n",
       "      <th>entrez_id</th>\n",
       "      <th>srx_accession</th>\n",
       "      <th>file_path</th>\n",
       "      <th>obs_count</th>\n",
       "      <th>lib_prep</th>\n",
       "      <th>tech_10x</th>\n",
       "      <th>cell_prep</th>\n",
       "      <th>organism</th>\n",
       "      <th>tissue</th>\n",
       "      <th>disease</th>\n",
       "      <th>perturbation</th>\n",
       "      <th>cell_line</th>\n",
       "      <th>czi_collection_id</th>\n",
       "      <th>czi_collection_name</th>\n",
       "    </tr>\n",
       "  </thead>\n",
       "  <tbody>\n",
       "    <tr>\n",
       "      <th>0</th>\n",
       "      <td>24123125</td>\n",
       "      <td>SRX17302366</td>\n",
       "      <td>gs://arc-scbasecount/2025-02-25/h5ad/GeneFull_...</td>\n",
       "      <td>9036</td>\n",
       "      <td>10x_Genomics</td>\n",
       "      <td>3_prime_gex</td>\n",
       "      <td>single_cell</td>\n",
       "      <td>Arabidopsis thaliana</td>\n",
       "      <td>other</td>\n",
       "      <td>not specified</td>\n",
       "      <td>BL (Brassinolide), 100nM, 0.5 hours post-treat...</td>\n",
       "      <td>WT Col-0</td>\n",
       "      <td>None</td>\n",
       "      <td>None</td>\n",
       "    </tr>\n",
       "    <tr>\n",
       "      <th>1</th>\n",
       "      <td>24123140</td>\n",
       "      <td>SRX17302381</td>\n",
       "      <td>gs://arc-scbasecount/2025-02-25/h5ad/GeneFull_...</td>\n",
       "      <td>14317</td>\n",
       "      <td>10x_Genomics</td>\n",
       "      <td>3_prime_gex</td>\n",
       "      <td>single_cell</td>\n",
       "      <td>Arabidopsis thaliana</td>\n",
       "      <td>other</td>\n",
       "      <td>not specified</td>\n",
       "      <td>control treatment, age: 7 days</td>\n",
       "      <td>WT Col-0</td>\n",
       "      <td>None</td>\n",
       "      <td>None</td>\n",
       "    </tr>\n",
       "    <tr>\n",
       "      <th>2</th>\n",
       "      <td>24123142</td>\n",
       "      <td>SRX17302383</td>\n",
       "      <td>gs://arc-scbasecount/2025-02-25/h5ad/GeneFull_...</td>\n",
       "      <td>20075</td>\n",
       "      <td>10x_Genomics</td>\n",
       "      <td>3_prime_gex</td>\n",
       "      <td>single_cell</td>\n",
       "      <td>Arabidopsis thaliana</td>\n",
       "      <td>other</td>\n",
       "      <td>unsure</td>\n",
       "      <td>control</td>\n",
       "      <td>unsure</td>\n",
       "      <td>None</td>\n",
       "      <td>None</td>\n",
       "    </tr>\n",
       "    <tr>\n",
       "      <th>3</th>\n",
       "      <td>26626960</td>\n",
       "      <td>SRX19366049</td>\n",
       "      <td>gs://arc-scbasecount/2025-02-25/h5ad/GeneFull_...</td>\n",
       "      <td>7539</td>\n",
       "      <td>10x_Genomics</td>\n",
       "      <td>3_prime_gex</td>\n",
       "      <td>single_cell</td>\n",
       "      <td>Arabidopsis thaliana</td>\n",
       "      <td>other</td>\n",
       "      <td>unsure</td>\n",
       "      <td>mock treatment (control group)</td>\n",
       "      <td>not applicable</td>\n",
       "      <td>None</td>\n",
       "      <td>None</td>\n",
       "    </tr>\n",
       "    <tr>\n",
       "      <th>4</th>\n",
       "      <td>26626958</td>\n",
       "      <td>SRX19366047</td>\n",
       "      <td>gs://arc-scbasecount/2025-02-25/h5ad/GeneFull_...</td>\n",
       "      <td>7703</td>\n",
       "      <td>10x_Genomics</td>\n",
       "      <td>3_prime_gex</td>\n",
       "      <td>single_cell</td>\n",
       "      <td>Arabidopsis thaliana</td>\n",
       "      <td>other</td>\n",
       "      <td>none</td>\n",
       "      <td>mock treatment; 2 µM RALF1 peptide for 2 hours</td>\n",
       "      <td>none</td>\n",
       "      <td>None</td>\n",
       "      <td>None</td>\n",
       "    </tr>\n",
       "  </tbody>\n",
       "</table>\n",
       "</div>"
      ],
      "text/plain": [
       "   entrez_id srx_accession                                          file_path  \\\n",
       "0   24123125   SRX17302366  gs://arc-scbasecount/2025-02-25/h5ad/GeneFull_...   \n",
       "1   24123140   SRX17302381  gs://arc-scbasecount/2025-02-25/h5ad/GeneFull_...   \n",
       "2   24123142   SRX17302383  gs://arc-scbasecount/2025-02-25/h5ad/GeneFull_...   \n",
       "3   26626960   SRX19366049  gs://arc-scbasecount/2025-02-25/h5ad/GeneFull_...   \n",
       "4   26626958   SRX19366047  gs://arc-scbasecount/2025-02-25/h5ad/GeneFull_...   \n",
       "\n",
       "   obs_count      lib_prep     tech_10x    cell_prep              organism  \\\n",
       "0       9036  10x_Genomics  3_prime_gex  single_cell  Arabidopsis thaliana   \n",
       "1      14317  10x_Genomics  3_prime_gex  single_cell  Arabidopsis thaliana   \n",
       "2      20075  10x_Genomics  3_prime_gex  single_cell  Arabidopsis thaliana   \n",
       "3       7539  10x_Genomics  3_prime_gex  single_cell  Arabidopsis thaliana   \n",
       "4       7703  10x_Genomics  3_prime_gex  single_cell  Arabidopsis thaliana   \n",
       "\n",
       "  tissue        disease                                       perturbation  \\\n",
       "0  other  not specified  BL (Brassinolide), 100nM, 0.5 hours post-treat...   \n",
       "1  other  not specified                     control treatment, age: 7 days   \n",
       "2  other         unsure                                            control   \n",
       "3  other         unsure                     mock treatment (control group)   \n",
       "4  other           none     mock treatment; 2 µM RALF1 peptide for 2 hours   \n",
       "\n",
       "        cell_line czi_collection_id czi_collection_name  \n",
       "0        WT Col-0              None                None  \n",
       "1        WT Col-0              None                None  \n",
       "2          unsure              None                None  \n",
       "3  not applicable              None                None  \n",
       "4            none              None                None  "
      ]
     },
     "execution_count": 48,
     "metadata": {},
     "output_type": "execute_result"
    }
   ],
   "source": [
    "# Read in the metadata for all organisms\n",
    "sample_metadata = []\n",
    "for i,row in sample_pq_files.iterrows():\n",
    "    sample_metadata.append(\n",
    "        ds.dataset(row[\"file_path\"], filesystem=fs, format=\"parquet\").to_table().to_pandas()\n",
    "    )\n",
    "sample_metadata = pd.concat(sample_metadata)\n",
    "\n",
    "print(f\"Number of samples: {sample_metadata.shape[0]}\")\n",
    "sample_metadata.head()"
   ]
  },
  {
   "cell_type": "code",
   "execution_count": 49,
   "metadata": {},
   "outputs": [
    {
     "name": "stdout",
     "output_type": "stream",
     "text": [
      "Obs count: 233686476\n"
     ]
    }
   ],
   "source": [
    "# cells\n",
    "print(f\"Obs count: {sample_metadata['obs_count'].sum()}\")"
   ]
  },
  {
   "cell_type": "code",
   "execution_count": 50,
   "metadata": {},
   "outputs": [
    {
     "data": {
      "text/plain": [
       "organism\n",
       "Homo sapiens               16077\n",
       "Mus musculus               12212\n",
       "Macaca mulatta               587\n",
       "Danio rerio                  458\n",
       "Sus scrofa                   195\n",
       "Drosophila melanogaster      181\n",
       "Arabidopsis thaliana         175\n",
       "Gallus gallus                102\n",
       "Heterocephalus glaber         79\n",
       "Caenorhabditis elegans        52\n",
       "Pan troglodytes               49\n",
       "Bos taurus                    48\n",
       "Oryctolagus cuniculus         34\n",
       "Zea mays                      33\n",
       "Oryza sativa                  31\n",
       "Callithrix jacchus            24\n",
       "Ovis aries                    20\n",
       "Equus caballus                11\n",
       "Solanum lycopersicum          10\n",
       "Schistosoma mansoni            7\n",
       "Gorilla gorilla                2\n",
       "Name: count, dtype: int64"
      ]
     },
     "execution_count": 50,
     "metadata": {},
     "output_type": "execute_result"
    }
   ],
   "source": [
    "# samples per organism\n",
    "sample_metadata[\"organism\"].value_counts()"
   ]
  },
  {
   "cell_type": "code",
   "execution_count": 51,
   "metadata": {},
   "outputs": [
    {
     "name": "stdout",
     "output_type": "stream",
     "text": [
      "\n",
      "Homo sapiens:\n",
      "Number of cells: 118,671,014\n",
      "Number of samples: 16,077\n",
      "Average cells per sample: 7381.4\n",
      "\n",
      "Pan troglodytes:\n",
      "Number of cells: 312,701\n",
      "Number of samples: 49\n",
      "Average cells per sample: 6381.7\n",
      "\n",
      "Gorilla gorilla:\n",
      "Number of cells: 9,351\n",
      "Number of samples: 2\n",
      "Average cells per sample: 4675.5\n",
      "\n",
      "Macaca mulatta:\n",
      "Number of cells: 4,057,401\n",
      "Number of samples: 587\n",
      "Average cells per sample: 6912.1\n"
     ]
    }
   ],
   "source": [
    "# Get stats for primates\n",
    "primate_species = [\"Homo sapiens\", \"Pan troglodytes\", \"Gorilla gorilla\", \"Macaca mulatta\"]\n",
    "\n",
    "for species in primate_species:\n",
    "    species_samples = sample_metadata[sample_metadata[\"organism\"] == species]\n",
    "    cell_count = species_samples[\"obs_count\"].sum()\n",
    "    sample_count = species_samples.shape[0]\n",
    "    \n",
    "    if sample_count > 0:\n",
    "        avg_cells = cell_count / sample_count\n",
    "        print(f\"\\n{species}:\")\n",
    "        print(f\"Number of cells: {cell_count:,}\")\n",
    "        print(f\"Number of samples: {sample_count:,}\")\n",
    "        print(f\"Average cells per sample: {avg_cells:.1f}\")\n"
   ]
  },
  {
   "cell_type": "code",
   "execution_count": null,
   "metadata": {},
   "outputs": [],
   "source": [
    "# Get stats for all organisms and plot histogram\n",
    "import matplotlib.pyplot as plt\n",
    "import numpy as np\n",
    "\n",
    "# Calculate stats per species\n",
    "species_stats = []\n",
    "for species in sample_metadata[\"organism\"].unique():\n",
    "    species_samples = sample_metadata[sample_metadata[\"organism\"] == species]\n",
    "    cell_count = species_samples[\"obs_count\"].sum()\n",
    "    sample_count = species_samples.shape[0]\n",
    "    \n",
    "    if sample_count > 0:\n",
    "        avg_cells = cell_count / sample_count\n",
    "        species_stats.append({\n",
    "            'species': species,\n",
    "            'cell_count': cell_count,\n",
    "            'sample_count': sample_count,\n",
    "            'avg_cells': avg_cells\n",
    "        })\n",
    "\n",
    "# Convert to DataFrame for plotting\n",
    "stats_df = pd.DataFrame(species_stats)\n",
    "stats_df = stats_df.sort_values('cell_count', ascending=False)\n",
    "\n",
    "# Create histogram with log scale\n",
    "plt.figure(figsize=(12, 6))\n",
    "plt.bar(range(len(stats_df)), np.log10(stats_df['cell_count']))\n",
    "plt.xticks(range(len(stats_df)), stats_df['species'], rotation=45, ha='right')\n",
    "plt.ylabel('log10(Number of Cells)')\n",
    "plt.title('Cell Counts by Species (Log Scale)')\n",
    "plt.tight_layout()\n",
    "plt.savefig('cell_counts_by_species.png')\n",
    "plt.show()\n"
   ]
  },
  {
   "cell_type": "code",
   "execution_count": null,
   "metadata": {},
   "outputs": [],
   "source": [
    "# tech_10x\n",
    "sample_metadata[\"tech_10x\"].value_counts()"
   ]
  },
  {
   "cell_type": "code",
   "execution_count": null,
   "metadata": {},
   "outputs": [],
   "source": [
    "# samples associated with czi collections\n",
    "czi_sample_count = sample_metadata[~sample_metadata[\"czi_collection_id\"].isna()].shape[0]\n",
    "print(f\"Samples associated with CZI collections: {czi_sample_count}\")"
   ]
  },
  {
   "cell_type": "code",
   "execution_count": null,
   "metadata": {},
   "outputs": [],
   "source": [
    "# check that the file paths point to existing h5ad files (assumes you have gsutil  installed)\n",
    "!which gsutil && gsutil ls {sample_metadata[\"file_path\"].values[0]}"
   ]
  },
  {
   "cell_type": "markdown",
   "metadata": {},
   "source": [
    "# Explore the per-obs metadata\n",
    "\n",
    "* `obs` ≃ cell"
   ]
  },
  {
   "cell_type": "code",
   "execution_count": null,
   "metadata": {},
   "outputs": [],
   "source": [
    "# The list of metadata files per organism\n",
    "obs_pq_files"
   ]
  },
  {
   "cell_type": "code",
   "execution_count": null,
   "metadata": {},
   "outputs": [],
   "source": [
    "# let's read in the metadata for a single organism\n",
    "target_organism = \"Bos_taurus\""
   ]
  },
  {
   "cell_type": "code",
   "execution_count": null,
   "metadata": {},
   "outputs": [],
   "source": [
    "# extract the file path\n",
    "infile = obs_pq_files[obs_pq_files[\"organism\"] == target_organism][\"file_path\"].values[0]"
   ]
  },
  {
   "cell_type": "code",
   "execution_count": null,
   "metadata": {},
   "outputs": [],
   "source": [
    "# read in the first 100000 rows\n",
    "obs_metadata = ds.dataset(infile, filesystem=fs, format=\"parquet\").head(100000).to_pandas()\n",
    "print(obs_metadata.shape)\n",
    "obs_metadata.head()"
   ]
  },
  {
   "cell_type": "code",
   "execution_count": null,
   "metadata": {},
   "outputs": [],
   "source": [
    "# distribution of gene counts\n",
    "obs_metadata[\"gene_count\"].describe()"
   ]
  },
  {
   "cell_type": "code",
   "execution_count": null,
   "metadata": {},
   "outputs": [],
   "source": [
    "# distribution of umi counts\n",
    "obs_metadata[\"umi_count\"].describe()"
   ]
  },
  {
   "cell_type": "markdown",
   "metadata": {},
   "source": [
    "## Get per-obs metadata for specific samples\n",
    "\n",
    "Method:\n",
    "\n",
    "1. Query the sample metadata\n",
    "2. Use the filtered sample metadata to query the cell metadata"
   ]
  },
  {
   "cell_type": "markdown",
   "metadata": {},
   "source": [
    "#### Filter sample metadata\n",
    "\n",
    "Let's get all sheep and horse samples with `obs_count > 10000`"
   ]
  },
  {
   "cell_type": "code",
   "execution_count": null,
   "metadata": {},
   "outputs": [],
   "source": [
    "target_organisms = [\"Ovis aries\", \"Equus caballus\"]\n",
    "obs_count_cutoff = 10000"
   ]
  },
  {
   "cell_type": "code",
   "execution_count": null,
   "metadata": {},
   "outputs": [],
   "source": [
    "# get the target samples\n",
    "target_samples = sample_metadata[(sample_metadata[\"organism\"].isin(target_organisms)) & (sample_metadata[\"obs_count\"] > obs_count_cutoff)]\n",
    "print(target_samples.shape)\n",
    "target_samples.head()"
   ]
  },
  {
   "cell_type": "code",
   "execution_count": null,
   "metadata": {},
   "outputs": [],
   "source": [
    "# filter the obs metadata\n",
    "target_orgs = [x.replace(\" \", \"_\") for x in target_samples[\"organism\"].unique().tolist()]\n",
    "target_obs_files = obs_pq_files[obs_pq_files[\"organism\"].isin(target_orgs)]\n",
    "target_obs_files"
   ]
  },
  {
   "cell_type": "code",
   "execution_count": null,
   "metadata": {},
   "outputs": [],
   "source": [
    "# read in the obs metadata\n",
    "obs_metadata = []\n",
    "for i,row in target_obs_files.iterrows():\n",
    "    obs_metadata.append(\n",
    "        ds.dataset(row[\"file_path\"], filesystem=fs, format=\"parquet\").to_table().to_pandas()\n",
    "    )\n",
    "obs_metadata = pd.concat(obs_metadata)\n",
    "\n",
    "# merge with the target samples\n",
    "obs_metadata = target_samples.merge(obs_metadata, left_on=\"srx_accession\", right_on=\"SRX_accession\")\n",
    "\n",
    "print(obs_metadata.shape)\n",
    "obs_metadata.head()"
   ]
  },
  {
   "cell_type": "code",
   "execution_count": null,
   "metadata": {},
   "outputs": [],
   "source": [
    "# gene_count distribution per sample\n",
    "obs_metadata.groupby([\"organism\", \"srx_accession\"])[\"gene_count\"].describe()"
   ]
  },
  {
   "cell_type": "code",
   "execution_count": null,
   "metadata": {},
   "outputs": [],
   "source": [
    "# umi_count distribution per sample\n",
    "obs_metadata.groupby([\"organism\", \"srx_accession\"])[\"umi_count\"].describe()"
   ]
  },
  {
   "cell_type": "markdown",
   "metadata": {},
   "source": [
    "# Read h5ad files"
   ]
  },
  {
   "cell_type": "markdown",
   "metadata": {},
   "source": [
    "### Example: select marmoset samples"
   ]
  },
  {
   "cell_type": "code",
   "execution_count": null,
   "metadata": {},
   "outputs": [],
   "source": [
    "# get the target samples\n",
    "query = (sample_metadata[\"organism\"] == \"Callithrix jacchus\") & (sample_metadata[\"obs_count\"] < 3000)\n",
    "target_samples = sample_metadata[query].head(n=3)\n",
    "target_samples"
   ]
  },
  {
   "cell_type": "code",
   "execution_count": null,
   "metadata": {},
   "outputs": [],
   "source": [
    "# read in the anndata for those samples\n",
    "adata = []\n",
    "for infile in target_samples[\"file_path\"].tolist():\n",
    "    print(infile)\n",
    "    with fs.open(infile, 'rb') as f:\n",
    "        adata.append(sc.read_h5ad(f))\n",
    "\n",
    "# combine anndata objects\n",
    "adata = sc.concat(adata)\n",
    "adata"
   ]
  },
  {
   "cell_type": "code",
   "execution_count": 34,
   "metadata": {},
   "outputs": [
    {
     "name": "stdout",
     "output_type": "stream",
     "text": [
      "Total human samples: 16,077\n",
      "Total human cells: 118,671,014\n",
      "\n",
      "Available columns: ['entrez_id', 'srx_accession', 'file_path', 'obs_count', 'lib_prep', 'tech_10x', 'cell_prep', 'organism', 'tissue', 'disease', 'perturbation', 'cell_line', 'czi_collection_id', 'czi_collection_name']\n",
      "\n",
      "Preview sample selected:\n",
      "SRX ID: SRX21215694\n",
      "Cell count: 5,829\n",
      "File path: gs://arc-scbasecount/2025-02-25/h5ad/GeneFull_Ex50pAS/Homo_sapiens/SRX21215694.h5ad\n",
      "Tissue: blood\n",
      "10X tech: multiome\n",
      "Cell prep: single_nucleus\n",
      "Study/Collection: None\n"
     ]
    }
   ],
   "source": [
    "## Download Homo sapiens data for discrete diffusion transformer\n",
    "\n",
    "# First, let's get human samples and pick one for preview\n",
    "human_samples = sample_metadata[sample_metadata[\"organism\"] == \"Homo sapiens\"]\n",
    "print(f\"Total human samples: {human_samples.shape[0]:,}\")\n",
    "print(f\"Total human cells: {human_samples['obs_count'].sum():,}\")\n",
    "\n",
    "# Check available columns in the metadata\n",
    "print(f\"\\nAvailable columns: {list(human_samples.columns)}\")\n",
    "\n",
    "# Sort by cell count and pick a medium-sized sample for preview\n",
    "human_samples_sorted = human_samples.sort_values('obs_count', ascending=False)\n",
    "preview_sample = human_samples_sorted.iloc[len(human_samples_sorted)//2]  # Pick middle sample\n",
    "\n",
    "print(f\"\\nPreview sample selected:\")\n",
    "print(f\"SRX ID: {preview_sample['srx_accession']}\")\n",
    "print(f\"Cell count: {preview_sample['obs_count']:,}\")\n",
    "print(f\"File path: {preview_sample['file_path']}\")\n",
    "print(f\"Tissue: {preview_sample['tissue']}\")\n",
    "print(f\"10X tech: {preview_sample['tech_10x']}\")\n",
    "print(f\"Cell prep: {preview_sample['cell_prep']}\")\n",
    "if 'czi_collection_name' in human_samples.columns:\n",
    "    print(f\"Study/Collection: {preview_sample['czi_collection_name']}\")\n"
   ]
  },
  {
   "cell_type": "code",
   "execution_count": 39,
   "metadata": {},
   "outputs": [
    {
     "name": "stdout",
     "output_type": "stream",
     "text": [
      "Downloading preview sample: SRX21215694\n",
      "From: gs://arc-scbasecount/2025-02-25/h5ad/GeneFull_Ex50pAS/Homo_sapiens/SRX21215694.h5ad\n",
      "✅ Successfully downloaded preview data to SRX21215694.h5ad\n",
      "\n",
      "Data shape: (5829, 36601)\n",
      "Genes: 36,601\n",
      "Cells: 5,829\n",
      "\n",
      "--- Sample Cell Row (first cell, first 10 genes) ---\n",
      "Cell ID: AAACAGCCACATGCTA\n",
      "\n",
      "Gene expression counts:\n",
      "  ENSG00000243485: 0\n",
      "  ENSG00000237613: 0\n",
      "  ENSG00000186092: 0\n",
      "  ENSG00000238009: 0\n",
      "  ENSG00000239945: 0\n",
      "  ENSG00000239906: 0\n",
      "  ENSG00000241860: 0\n",
      "  ENSG00000241599: 0\n",
      "  ENSG00000286448: 0\n",
      "  ENSG00000236601: 0\n",
      "\n",
      "--- Cell Metadata (first cell) ---\n",
      "gene_count              3019\n",
      "umi_count             7539.0\n",
      "SRX_accession    SRX21215694\n",
      "Name: AAACAGCCACATGCTA, dtype: object\n",
      "\n",
      "--- Data Statistics for Transformer Training ---\n",
      "Sparsity: 92.9% zeros\n",
      "Max count: 4535.0\n",
      "Mean counts per cell: 6941.9\n",
      "Unique count values: 816\n"
     ]
    }
   ],
   "source": [
    "# Download the preview sample to inspect it\n",
    "preview_gcs_path = preview_sample['file_path']\n",
    "\n",
    "print(f\"Downloading preview sample: {preview_sample['srx_accession']}\")\n",
    "print(f\"From: {preview_gcs_path}\")\n",
    "\n",
    "try:\n",
    "    # Use gcsfs to download the file\n",
    "    output_file = f\"{preview_sample['srx_accession']}.h5ad\"\n",
    "    fs.get(preview_gcs_path, output_file)\n",
    "    print(f\"✅ Successfully downloaded preview data to {output_file}\")\n",
    "    \n",
    "    # Load and inspect the downloaded file\n",
    "    preview_adata = sc.read_h5ad(output_file)\n",
    "    \n",
    "    # Basic data info\n",
    "    print(f\"\\nData shape: {preview_adata.shape}\")\n",
    "    print(f\"Genes: {preview_adata.n_vars:,}\")\n",
    "    print(f\"Cells: {preview_adata.n_obs:,}\")\n",
    "    \n",
    "    # Show one cell row (gene expression profile)\n",
    "    print(f\"\\n--- Sample Cell Row (first cell, first 10 genes) ---\")\n",
    "    print(\"Cell ID:\", preview_adata.obs_names[0])\n",
    "    \n",
    "    # Handle both sparse and dense matrices\n",
    "    if hasattr(preview_adata.X, 'toarray'):\n",
    "        first_cell = preview_adata.X[0, :10].toarray().flatten()\n",
    "    else:\n",
    "        first_cell = preview_adata.X[0, :10]\n",
    "    \n",
    "    gene_names = preview_adata.var_names[:10].tolist()\n",
    "    \n",
    "    print(\"\\nGene expression counts:\")\n",
    "    for gene, count in zip(gene_names, first_cell):\n",
    "        print(f\"  {gene}: {int(count)}\")\n",
    "    \n",
    "    # Show cell metadata\n",
    "    print(f\"\\n--- Cell Metadata (first cell) ---\")\n",
    "    if len(preview_adata.obs.columns) > 0:\n",
    "        print(preview_adata.obs.iloc[0])\n",
    "    else:\n",
    "        print(\"No cell metadata available\")\n",
    "    \n",
    "    # Data statistics for transformer training\n",
    "    print(f\"\\n--- Data Statistics for Transformer Training ---\")\n",
    "    if hasattr(preview_adata.X, 'toarray'):\n",
    "        X_dense = preview_adata.X.toarray()\n",
    "        sparsity = (X_dense == 0).sum() / X_dense.size * 100\n",
    "        max_count = X_dense.max()\n",
    "        mean_counts_per_cell = X_dense.sum(axis=1).mean()\n",
    "        unique_values = len(np.unique(X_dense))\n",
    "    else:\n",
    "        sparsity = (preview_adata.X == 0).sum() / preview_adata.X.size * 100\n",
    "        max_count = preview_adata.X.max()\n",
    "        mean_counts_per_cell = preview_adata.X.sum(axis=1).mean()\n",
    "        unique_values = len(np.unique(preview_adata.X))\n",
    "    \n",
    "    print(f\"Sparsity: {sparsity:.1f}% zeros\")\n",
    "    print(f\"Max count: {max_count}\")\n",
    "    print(f\"Mean counts per cell: {mean_counts_per_cell:.1f}\")\n",
    "    print(f\"Unique count values: {unique_values}\")\n",
    "    \n",
    "except Exception as e:\n",
    "    print(f\"❌ Failed to download/read data: {str(e)}\")\n"
   ]
  },
  {
   "cell_type": "code",
   "execution_count": 46,
   "metadata": {},
   "outputs": [
    {
     "name": "stdout",
     "output_type": "stream",
     "text": [
      "\n",
      "--- Sample Metadata Row ---\n",
      "entrez_id                                                       29110018\n",
      "srx_accession                                                ERX11148735\n",
      "file_path              gs://arc-scbasecount/2025-02-25/h5ad/GeneFull_...\n",
      "obs_count                                                            747\n",
      "lib_prep                                                    10x_Genomics\n",
      "tech_10x                                                     3_prime_gex\n",
      "cell_prep                                                    single_cell\n",
      "organism                                                    Homo sapiens\n",
      "tissue                                                      skin of body\n",
      "disease                                                           normal\n",
      "perturbation             surplus skin from breast reconstruction surgery\n",
      "cell_line                                                 not applicable\n",
      "czi_collection_id                   73f82ac8-15cc-4fcd-87f8-5683723fce7f\n",
      "czi_collection_name    Developmental cell programs are co-opted in in...\n",
      "Name: 0, dtype: object\n",
      "\n",
      "📥 Reading file: SRX21215694.h5ad\n",
      "\n",
      "--- Dataset Overview ---\n",
      "Number of cells: 5,829\n",
      "Number of genes: 36,601\n",
      "Total size in memory: 0.1 GB\n",
      "\n",
      "--- Available Metadata Fields ---\n",
      "Cell metadata columns: ['gene_count', 'umi_count', 'SRX_accession']\n",
      "Gene metadata columns: ['gene_symbols', 'feature_types']\n",
      "\n",
      "--- Saving Sample Gene Expression Row ---\n",
      "✓ Saved gene expression data to first_cell_gene_counts.csv\n",
      "\n",
      "Preview of saved data:\n",
      "              gene  count\n",
      "0  ENSG00000243485    0.0\n",
      "1  ENSG00000237613    0.0\n",
      "2  ENSG00000186092    0.0\n",
      "3  ENSG00000238009    0.0\n",
      "4  ENSG00000239945    0.0\n"
     ]
    }
   ],
   "source": [
    "# Preview one row of the human samples dataframe\n",
    "print(\"\\n--- Sample Metadata Row ---\")\n",
    "print(human_samples.iloc[0])\n",
    "\n",
    "# Download and examine one sample file\n",
    "sample_path = \"SRX21215694.h5ad\"\n",
    "print(f\"\\n📥 Reading file: {sample_path}\")\n",
    "\n",
    "try:\n",
    "    # Read the local file\n",
    "    preview_adata = sc.read_h5ad(sample_path)\n",
    "    \n",
    "    print(f\"\\n--- Dataset Overview ---\")\n",
    "    print(f\"Number of cells: {preview_adata.n_obs:,}\")\n",
    "    print(f\"Number of genes: {preview_adata.n_vars:,}\")\n",
    "    \n",
    "    # Handle sparse matrix size calculation\n",
    "    if hasattr(preview_adata.X, 'data'):\n",
    "        size_gb = preview_adata.X.data.nbytes / 1e9\n",
    "    else:\n",
    "        size_gb = preview_adata.X.nbytes / 1e9\n",
    "    print(f\"Total size in memory: {size_gb:.1f} GB\")\n",
    "    \n",
    "    # Show available metadata fields\n",
    "    print(f\"\\n--- Available Metadata Fields ---\")\n",
    "    print(\"Cell metadata columns:\", list(preview_adata.obs.columns))\n",
    "    print(\"Gene metadata columns:\", list(preview_adata.var.columns))\n",
    "    \n",
    "    # Save one row of gene expression data to CSV\n",
    "    print(\"\\n--- Saving Sample Gene Expression Row ---\")\n",
    "    if hasattr(preview_adata.X, 'toarray'):\n",
    "        first_row = preview_adata.X[0].toarray()[0]\n",
    "    else:\n",
    "        first_row = preview_adata.X[0]\n",
    "    \n",
    "    # Create dataframe with gene names and counts\n",
    "    import pandas as pd\n",
    "    gene_counts = pd.DataFrame({\n",
    "        'gene': preview_adata.var_names,\n",
    "        'count': first_row\n",
    "    })\n",
    "    \n",
    "    # Save to CSV\n",
    "    output_file = 'first_cell_gene_counts.csv'\n",
    "    gene_counts.to_csv(output_file, index=False)\n",
    "    print(f\"✓ Saved gene expression data to {output_file}\")\n",
    "    \n",
    "    # Preview first few rows\n",
    "    print(\"\\nPreview of saved data:\")\n",
    "    print(gene_counts.head())\n",
    "except Exception as e:\n",
    "    print(f\"❌ Failed to read file: {str(e)}\")\n"
   ]
  },
  {
   "cell_type": "code",
   "execution_count": 38,
   "metadata": {},
   "outputs": [
    {
     "name": "stdout",
     "output_type": "stream",
     "text": [
      "⚠️  Uncomment the last line above to start downloading all human data\n",
      "💡 Recommended: Start with a small batch to test your setup first\n"
     ]
    }
   ],
   "source": [
    "# After confirming the preview data looks good, run this to download ALL human data\n",
    "# WARNING: This will download ~16,077 files - make sure you have sufficient disk space!\n",
    "\n",
    "def download_all_human_data(batch_size=100, start_idx=0):\n",
    "    \"\"\"\n",
    "    Download all human samples in batches for discrete diffusion transformer training\n",
    "    \n",
    "    Args:\n",
    "        batch_size: Number of files to download per batch \n",
    "        start_idx: Starting index (useful for resuming interrupted downloads)\n",
    "    \"\"\"\n",
    "    \n",
    "    # Create directory for human data\n",
    "    import os\n",
    "    os.makedirs(\"human_data\", exist_ok=True)\n",
    "    \n",
    "    print(f\"📊 Total human samples to download: {len(human_samples):,}\")\n",
    "    print(f\"💾 Estimated total size: ~{len(human_samples) * 50}MB (rough estimate)\")\n",
    "    print(f\"🔄 Downloading in batches of {batch_size}\")\n",
    "    \n",
    "    # Get list of files to download\n",
    "    download_list = []\n",
    "    for idx, (_, row) in enumerate(human_samples.iterrows()):\n",
    "        if idx < start_idx:\n",
    "            continue\n",
    "            \n",
    "        src_path = row['file_path'] \n",
    "        dst_filename = f\"human_data/{row['srx_accession']}.h5ad\"\n",
    "        download_list.append((src_path, dst_filename, row['srx_accession'], row['obs_count']))\n",
    "    \n",
    "    # Download in batches\n",
    "    failed_downloads = []\n",
    "    successful_downloads = 0\n",
    "    \n",
    "    for i in range(0, len(download_list), batch_size):\n",
    "        batch = download_list[i:i+batch_size]\n",
    "        batch_num = i // batch_size + 1\n",
    "        total_batches = (len(download_list) + batch_size - 1) // batch_size\n",
    "        \n",
    "        print(f\"\\n🚀 Batch {batch_num}/{total_batches} - Downloading {len(batch)} files...\")\n",
    "        \n",
    "        for src_path, dst_filename, srx_id, cell_count in batch:\n",
    "            # Skip if already downloaded\n",
    "            if os.path.exists(dst_filename):\n",
    "                print(f\"⏭️  Skipping {srx_id} (already exists)\")\n",
    "                successful_downloads += 1\n",
    "                continue\n",
    "                \n",
    "            # Download file\n",
    "            result = subprocess.run([\n",
    "                'gsutil', 'cp', src_path, dst_filename\n",
    "            ], capture_output=True, text=True)\n",
    "            \n",
    "            if result.returncode == 0:\n",
    "                print(f\"✅ {srx_id} ({cell_count:,} cells)\")\n",
    "                successful_downloads += 1\n",
    "            else:\n",
    "                print(f\"❌ Failed: {srx_id} - {result.stderr.strip()}\")\n",
    "                failed_downloads.append((srx_id, src_path, result.stderr))\n",
    "        \n",
    "        # Progress update\n",
    "        remaining = len(download_list) - i - len(batch)\n",
    "        print(f\"📈 Progress: {successful_downloads}/{len(download_list)} successful, {remaining} remaining\")\n",
    "    \n",
    "    print(f\"\\n🎉 Download Summary:\")\n",
    "    print(f\"✅ Successful: {successful_downloads}\")\n",
    "    print(f\"❌ Failed: {len(failed_downloads)}\")\n",
    "    \n",
    "    if failed_downloads:\n",
    "        print(f\"\\n💔 Failed downloads:\")\n",
    "        for srx_id, path, error in failed_downloads[:5]:  # Show first 5 failures\n",
    "            print(f\"  {srx_id}: {error.strip()}\")\n",
    "        if len(failed_downloads) > 5:\n",
    "            print(f\"  ... and {len(failed_downloads) - 5} more\")\n",
    "    \n",
    "    return successful_downloads, failed_downloads\n",
    "\n",
    "# Uncomment the line below to start downloading ALL human data\n",
    "# successful, failed = download_all_human_data(batch_size=50)\n",
    "\n",
    "print(\"⚠️  Uncomment the last line above to start downloading all human data\")\n",
    "print(\"💡 Recommended: Start with a small batch to test your setup first\")\n"
   ]
  },
  {
   "cell_type": "code",
   "execution_count": null,
   "metadata": {},
   "outputs": [],
   "source": [
    "# Additional data processing tips for discrete diffusion transformers\n",
    "\n",
    "print(\"🧬 Data Processing Tips for Discrete Diffusion Transformers:\")\n",
    "print(\"\\n1. Data Format:\")\n",
    "print(\"   - Each h5ad file contains a sparse count matrix (cells × genes)\")\n",
    "print(\"   - Gene expression counts are typically integers (0, 1, 2, ...)\")\n",
    "print(\"   - Perfect for discrete diffusion models!\")\n",
    "\n",
    "print(\"\\n2. Preprocessing Pipeline:\")\n",
    "print(\"   - Filter low-quality cells (low gene count, high mitochondrial %)\")\n",
    "print(\"   - Filter low-expressed genes\")\n",
    "print(\"   - Normalize/scale if needed (depends on your model)\")\n",
    "print(\"   - Consider batching samples by study or experiment\")\n",
    "\n",
    "print(\"\\n3. Memory Management:\")\n",
    "print(\"   - Files are in sparse format - convert to dense for training\")\n",
    "print(\"   - Consider processing in chunks if memory is limited\")\n",
    "print(\"   - Use generators/data loaders for training\")\n",
    "\n",
    "print(\"\\n4. Tokenization Ideas:\")\n",
    "print(\"   - Directly use count values as discrete tokens\")\n",
    "print(\"   - Bin counts into discrete levels (0, 1-5, 6-10, 11+)\")\n",
    "print(\"   - Use vocabulary of most variable genes\")\n",
    "\n",
    "if 'preview_adata' in locals():\n",
    "    print(f\"\\n📊 Your Preview Data Stats:\")\n",
    "    print(f\"   - Shape: {preview_adata.shape[0]:,} cells × {preview_adata.shape[1]:,} genes\")\n",
    "    print(f\"   - Sparsity: {(preview_adata.X == 0).sum() / preview_adata.X.size * 100:.1f}% zeros\")\n",
    "    print(f\"   - Max count: {preview_adata.X.max()}\")\n",
    "    print(f\"   - Mean counts per cell: {preview_adata.X.sum(axis=1).mean():.1f}\")\n",
    "\n",
    "print(f\"\\n🚀 Ready to download {len(human_samples):,} human samples!\")\n",
    "print(\"Run the cells above to proceed with your discrete diffusion transformer dataset.\")\n"
   ]
  },
  {
   "cell_type": "code",
   "execution_count": null,
   "metadata": {},
   "outputs": [],
   "source": [
    "# number of obs per SRX accession\n",
    "adata.obs[\"SRX_accession\"].value_counts()"
   ]
  },
  {
   "cell_type": "code",
   "execution_count": null,
   "metadata": {},
   "outputs": [],
   "source": [
    "# add per-sample metadata to the anndata object\n",
    "adata.obs = adata.obs.reset_index().merge(\n",
    "    target_samples, left_on=\"SRX_accession\", right_on=\"srx_accession\", how=\"inner\"\n",
    ")\n",
    "adata.obs.head()"
   ]
  },
  {
   "cell_type": "markdown",
   "metadata": {},
   "source": [
    "# Downloading files\n",
    "\n",
    "You can use [gsutil](https://cloud.google.com/storage/docs/gsutil) to download any of the files in the bucket\n",
    "and work with them locally. \n",
    "\n",
    "Please be considerate to the [cost of egress](https://cloud.google.com/storage/pricing) when download the data from Google Cloud Storage.\n",
    "\n",
    "For example:\n",
    "\n",
    "```bash\n",
    "gsutil cp gs://arc-scbasecount/2025-02-25/h5ad/Homo_sapiens/ERX4319106.h5ad .\n",
    "```\n",
    "\n",
    "For large data transfers, it is better to use `gsutil rsync`:\n",
    "\n",
    "```bash\n",
    "gsutil rsync gs://arc-scbasecount/2025-02-25/h5ad/Callithrix_jacchus/ .\n",
    "```"
   ]
  },
  {
   "cell_type": "markdown",
   "metadata": {},
   "source": [
    "***\n",
    "\n",
    "# Session Info"
   ]
  },
  {
   "cell_type": "code",
   "execution_count": null,
   "metadata": {},
   "outputs": [],
   "source": [
    "!conda list"
   ]
  }
 ],
 "metadata": {
  "kernelspec": {
   "display_name": "env",
   "language": "python",
   "name": "python3"
  },
  "language_info": {
   "codemirror_mode": {
    "name": "ipython",
    "version": 3
   },
   "file_extension": ".py",
   "mimetype": "text/x-python",
   "name": "python",
   "nbconvert_exporter": "python",
   "pygments_lexer": "ipython3",
   "version": "3.13.5"
  }
 },
 "nbformat": 4,
 "nbformat_minor": 2
}
